{
 "cells": [
  {
   "cell_type": "markdown",
   "source": [
    "https://www.geeksforgeeks.org/how-to-convert-html-to-markdown-in-python/"
   ],
   "metadata": {}
  },
  {
   "cell_type": "code",
   "execution_count": 1,
   "source": [
    "!pip install markdownify\n"
   ],
   "outputs": [
    {
     "output_type": "stream",
     "name": "stdout",
     "text": [
      "Collecting markdownify\n",
      "  Downloading markdownify-0.9.3-py3-none-any.whl (12 kB)\n",
      "Requirement already satisfied: beautifulsoup4<5,>=4.9 in /opt/anaconda3/envs/learn-env/lib/python3.8/site-packages (from markdownify) (4.9.3)\n",
      "Requirement already satisfied: six<2,>=1.15 in /opt/anaconda3/envs/learn-env/lib/python3.8/site-packages (from markdownify) (1.15.0)\n",
      "Requirement already satisfied: soupsieve>1.2; python_version >= \"3.0\" in /opt/anaconda3/envs/learn-env/lib/python3.8/site-packages (from beautifulsoup4<5,>=4.9->markdownify) (2.0.1)\n",
      "Installing collected packages: markdownify\n",
      "Successfully installed markdownify-0.9.3\n"
     ]
    }
   ],
   "metadata": {}
  },
  {
   "cell_type": "code",
   "execution_count": 2,
   "source": [
    "import markdownify\n"
   ],
   "outputs": [],
   "metadata": {}
  },
  {
   "cell_type": "code",
   "execution_count": 4,
   "source": [
    "from IPython.display import HTML,Markdown,display\n",
    "with open(\"FLEX Phase 1 Project Instructions_ Phase 1.html\") as f:\n",
    "    h = f.read()\n",
    "HTML(h)"
   ],
   "outputs": [
    {
     "output_type": "execute_result",
     "data": {
      "text/plain": [
       "<IPython.core.display.HTML object>"
      ],
      "text/html": [
       "<h2>🎯Phase 1 Project Overview</h2>\n",
       "<p>After completing Topics 1-10, you should be all set to tackle the <a title=\"Phase 1 Project\" href=\"$CANVAS_OBJECT_REFERENCE$/assignments/g0cb5a456607af875b612a7ad8abd6317\" data-api-endpoint=\"https://learning.flatironschool.com/api/v1/courses/4339/assignments/133276\" data-api-returntype=\"Assignment\">Phase 1 Project!</a>\n",
       "</p>\n",
       "<p>\n",
       "    <a title=\"Phase 1 Project\" href=\"$CANVAS_OBJECT_REFERENCE$/assignments/g0cb5a456607af875b612a7ad8abd6317\" data-api-endpoint=\"https://learning.flatironschool.com/api/v1/courses/4339/assignments/133276\" data-api-returntype=\"Assignment\"></a>\n",
       "</p>\n",
       "<p>The Phase 1 Project is your first start-to-finish task where you have a lot of freedom in:</p>\n",
       "<ul>\n",
       "    <li>the data you use,</li>\n",
       "    <li>the questions you ask, and</li>\n",
       "    <li>the way you answer those questions.</li>\n",
       "</ul>\n",
       "<p>Overall the project should take 20-40 hours to complete. To stay on pace, you should aim to complete the project in the following # of weeks:</p>\n",
       "<ul>\n",
       "    <li>20-week pace: 1 week&nbsp;</li>\n",
       "    <li>40-week pace: 2 weeks</li>\n",
       "    <li>60-week pace: 3-4 weeks</li>\n",
       "</ul>\n",
       "<p>Your assigned One-on-One lead can help you find out exactly how many days you should spend on your end-of-phase project using the Flex Cadence and Milestones Calendar - please ask if you need help planning your project time!</p>\n",
       "<p>At the end of the project, you will have a live Project Review session<strong> <em>with an instructor who is not your One-on-One Lead!</em> </strong>Passing that review is how you progress to the next Phase, and you are required to pass all Phase Project Reviews in numerical order to complete the course.</p>\n",
       "<h2>Project Requirements</h2>\n",
       "<p>The project requirements are spelled out in both:</p>\n",
       "<ol>\n",
       "    <li>the rubric attached to the <a title=\"Phase 1 Project\" href=\"$CANVAS_OBJECT_REFERENCE$/assignments/g0cb5a456607af875b612a7ad8abd6317\" data-api-endpoint=\"https://learning.flatironschool.com/api/v1/courses/4339/assignments/133276\" data-api-returntype=\"Assignment\">Phase 1 Project</a>\n",
       "    </li>\n",
       "    <li>the <a class=\"inline_disabled\" href=\"https://docs.google.com/document/d/1ZFN9zle3-18Mtq2doEjMr3aUx2wCVySlQXzWuZiv_EY/edit\" target=\"_blank\" rel=\"noopener\">Phase 1 Project Submission Checklist</a>\n",
       "    </li>\n",
       "</ol>\n",
       "<p>In brief, the major 3 deliverables include:</p>\n",
       "<ul>\n",
       "    <li>A jupyter notebook with your technical analysis</li>\n",
       "    <li>A 5-10 minute non-technical executive summary presentation</li>\n",
       "    <li>A GitHub repository that contains:\n",
       "        <ul>\n",
       "            <li>the .ipynb notebook file</li>\n",
       "            <li>the .pdf of your presentation</li>\n",
       "            <li>a README summarizing your results</li>\n",
       "        </ul>\n",
       "    </li>\n",
       "</ul>\n",
       "<h2>Getting Started:</h2>\n",
       "<p>When you're ready to begin the project, we recommend you do three things:</p>\n",
       "<ol>\n",
       "    <li>Message your One-on-One Lead on Slack and indicate you've begun the project</li>\n",
       "    <li>Create your GitHub repository where you can save all of your work</li>\n",
       "    <li>Schedule a Project Review session&nbsp;<strong><em>with an instructor other than your One-on-One Lead</em></strong>\n",
       "        <ul>\n",
       "            <li>Note: you are <strong>allowed to continue to refine and update your project/repo up until 24 hours before your review,</strong> at which point the submitted materials will be considered final.&nbsp;</li>\n",
       "        </ul>\n",
       "    </li>\n",
       "</ol>\n",
       "<h2>Submitting Your Project on Canvas</h2>\n",
       "<ul>\n",
       "    <li>You will turn in your project materials on 2 Canvas assignments:&nbsp;\n",
       "        <ul>\n",
       "            <li>The GitHub Repo Link is uploaded here:\n",
       "                <ul>\n",
       "                    <li>\n",
       "                        <a class=\"ig-title title item_link\" title=\"Phase 1 Project - GitHub Repository URL\" href=\"$CANVAS_COURSE_REFERENCE$/modules/items/g90d922828171bfe0405beda96749f255\">Phase 1 Project - GitHub Repository URL</a>\n",
       "                    </li>\n",
       "                </ul>\n",
       "            </li>\n",
       "            <li>The PDF Exports of Your Notebook, Presentation, and README are uploaded here:&nbsp;\n",
       "                <ul>\n",
       "                    <li>\n",
       "                        <a class=\"ig-title title item_link\" title=\"Phase 1 Project\" href=\"$CANVAS_COURSE_REFERENCE$/modules/items/g86f11f3fa9dd94154a506afb86f79b0b\">Phase 1 Project</a>\n",
       "                    </li>\n",
       "                </ul>\n",
       "            </li>\n",
       "        </ul>\n",
       "    </li>\n",
       "    <li>For additional instructions on submitting your project pdfs on canvas see:\n",
       "        <ul>\n",
       "            <li>\n",
       "                <a class=\"ig-title title item_link\" style=\"font-family: inherit; font-size: 1rem;\" title=\"Project Submission &amp; Review (Online)\" href=\"$CANVAS_COURSE_REFERENCE$/modules/items/g98771acbc1c5c31a5ba751d9ed27fb7b\">Project Submission &amp; Review (Online)</a>\n",
       "            </li>\n",
       "        </ul>\n",
       "    </li>\n",
       "</ul>\n",
       "<h3>Scheduling Your Review</h3>\n",
       "<p>Schedule your review using the Phase 1 Project Booking Page (<a href=\"https://go.oncehub.com/ODSPhase1ProjectReviews\" target=\"_blank\" rel=\"noopener\">https://go.oncehub.com/ODSPhase1ProjectReviews)</a>\n",
       "</p>\n",
       "<ol>\n",
       "    <li>First, confirm your auto-detected time zone and then select Continue\n",
       "        <br />\n",
       "        <img src=\",/images/scheduling-example-1.png\" alt=\"Confirm your time zone.\">\n",
       "    </li>\n",
       "    <li>Then, on the calendar that appears, select a timeslot from the calendar\n",
       "        <br />\n",
       "        <img src=\"images/scheduling-example-2.png\" alt=\"Select a timeslot\" width=640 height=362 />&nbsp;\n",
       "    </li>\n",
       "    <li>After selecting a time slot you should see a form requesting information about you and your project materials.&nbsp;<strong>Please note the third line of the form, which indicates the Team Member that your appointment will be with. If the selected timeslot is with your assigned One-on-One Lead, then please select another timeslot. </strong><strong>\n",
       "            <br />\n",
       "            <img src=\"images/scheduling-example-3.png\" alt=\"Project scheduling form - check the Team Member field\" width=\"640\" height=\"377\" />&nbsp;\n",
       "            <br />\n",
       "        </strong><strong></strong></li>\n",
       "</ol>\n",
       "<p>\n",
       "    <span>Note: you are allowed to <strong>continue to refine and update your project/repo up until 24 hours before your review</strong>, at which point the submitted materials will be considered final.&nbsp;</span>\n",
       "</p>\n",
       "<h2>\n",
       "    <span>Project Review Format</span>\n",
       "</h2>\n",
       "<ul>\n",
       "    <li aria-level=\"1\">\n",
       "        <span>First, you will talk through your </span><strong>5-8 minute, non-technical presentation</strong>\n",
       "    </li>\n",
       "    <ul>\n",
       "        <li aria-level=\"2\">\n",
       "            <span>The reviewing instructor will ask you a question or two as if they were your target audience</span>\n",
       "        </li>\n",
       "        <li aria-level=\"2\">\n",
       "            <span>The reviewing instructor will then discuss any feedback or action items for the presentation</span>\n",
       "        </li>\n",
       "    </ul>\n",
       "    <li aria-level=\"1\">\n",
       "        <span>Next, you will go through your </span><strong>technical notebook&nbsp;</strong>\n",
       "    </li>\n",
       "    <ul>\n",
       "        <li aria-level=\"2\">\n",
       "            <span>Please have the notebook open and pre-run before your review (if possible)</span>\n",
       "        </li>\n",
       "        <li aria-level=\"2\">\n",
       "            <span>Depending on which project it is, the reviewing instructor will focus on a few areas of the notebook and generally will NOT have you talk through 100% of it</span>\n",
       "        </li>\n",
       "    </ul>\n",
       "    <li aria-level=\"1\">\n",
       "        <span>After reviewing the notebook and presentation, the reviewing instructor will submit feedback based on the rubric in Canvas (with the changes requested, if relevant)</span>\n",
       "    </li>\n",
       "</ul>\n",
       "<p>&nbsp;</p>\n",
       "<p>\n",
       "    <span>With all that in mind - go forth and create the first big ticket item for your data science portfolio, we can't wait to see it!</span>\n",
       "</p>"
      ]
     },
     "metadata": {},
     "execution_count": 4
    }
   ],
   "metadata": {}
  },
  {
   "cell_type": "code",
   "execution_count": 5,
   "source": [
    "md = markdownify.markdownify(h)\n",
    "md"
   ],
   "outputs": [
    {
     "output_type": "execute_result",
     "data": {
      "text/plain": [
       "'🎯Phase 1 Project Overview\\n-------------------------\\n\\n\\nAfter completing Topics 1-10, you should be all set to tackle the [Phase 1 Project!]($CANVAS_OBJECT_REFERENCE$/assignments/g0cb5a456607af875b612a7ad8abd6317 \"Phase 1 Project\")\\n\\n\\n\\n\\n\\n\\n\\n\\nThe Phase 1 Project is your first start-to-finish task where you have a lot of freedom in:\\n\\n\\n* the data you use,\\n* the questions you ask, and\\n* the way you answer those questions.\\n\\n\\nOverall the project should take 20-40 hours to complete. To stay on pace, you should aim to complete the project in the following # of weeks:\\n\\n\\n* 20-week pace: 1 week\\n* 40-week pace: 2 weeks\\n* 60-week pace: 3-4 weeks\\n\\n\\nYour assigned One-on-One lead can help you find out exactly how many days you should spend on your end-of-phase project using the Flex Cadence and Milestones Calendar - please ask if you need help planning your project time!\\n\\n\\nAt the end of the project, you will have a live Project Review session ***with an instructor who is not your One-on-One Lead!*** Passing that review is how you progress to the next Phase, and you are required to pass all Phase Project Reviews in numerical order to complete the course.\\n\\n\\nProject Requirements\\n--------------------\\n\\n\\nThe project requirements are spelled out in both:\\n\\n\\n1. the rubric attached to the [Phase 1 Project]($CANVAS_OBJECT_REFERENCE$/assignments/g0cb5a456607af875b612a7ad8abd6317 \"Phase 1 Project\")\\n2. the [Phase 1 Project Submission Checklist](https://docs.google.com/document/d/1ZFN9zle3-18Mtq2doEjMr3aUx2wCVySlQXzWuZiv_EY/edit)\\n\\n\\nIn brief, the major 3 deliverables include:\\n\\n\\n* A jupyter notebook with your technical analysis\\n* A 5-10 minute non-technical executive summary presentation\\n* A GitHub repository that contains:\\n\\t+ the .ipynb notebook file\\n\\t+ the .pdf of your presentation\\n\\t+ a README summarizing your results\\n\\n\\nGetting Started:\\n----------------\\n\\n\\nWhen you\\'re ready to begin the project, we recommend you do three things:\\n\\n\\n1. Message your One-on-One Lead on Slack and indicate you\\'ve begun the project\\n2. Create your GitHub repository where you can save all of your work\\n3. Schedule a Project Review session\\xa0***with an instructor other than your One-on-One Lead***\\n\\t* Note: you are **allowed to continue to refine and update your project/repo up until 24 hours before your review,** at which point the submitted materials will be considered final.\\n\\n\\nSubmitting Your Project on Canvas\\n---------------------------------\\n\\n\\n* You will turn in your project materials on 2 Canvas assignments:\\n\\t+ The GitHub Repo Link is uploaded here:\\n\\t\\t- [Phase 1 Project - GitHub Repository URL]($CANVAS_COURSE_REFERENCE$/modules/items/g90d922828171bfe0405beda96749f255 \"Phase 1 Project - GitHub Repository URL\")\\n\\t+ The PDF Exports of Your Notebook, Presentation, and README are uploaded here:\\n\\t\\t- [Phase 1 Project]($CANVAS_COURSE_REFERENCE$/modules/items/g86f11f3fa9dd94154a506afb86f79b0b \"Phase 1 Project\")\\n* For additional instructions on submitting your project pdfs on canvas see:\\n\\t+ [Project Submission & Review (Online)]($CANVAS_COURSE_REFERENCE$/modules/items/g98771acbc1c5c31a5ba751d9ed27fb7b \"Project Submission & Review (Online)\")\\n\\n\\n### Scheduling Your Review\\n\\n\\nSchedule your review using the Phase 1 Project Booking Page ([https://go.oncehub.com/ODSPhase1ProjectReviews)](https://go.oncehub.com/ODSPhase1ProjectReviews)\\n\\n\\n\\n1. First, confirm your auto-detected time zone and then select Continue\\n   \\n\\n![Confirm your time zone.](,/images/scheduling-example-1.png)\\n2. Then, on the calendar that appears, select a timeslot from the calendar\\n   \\n\\n![Select a timeslot](images/scheduling-example-2.png)\\n3. After selecting a time slot you should see a form requesting information about you and your project materials.\\xa0**Please note the third line of the form, which indicates the Team Member that your appointment will be with. If the selected timeslot is with your assigned One-on-One Lead, then please select another timeslot.** **![Project scheduling form - check the Team Member field](images/scheduling-example-3.png)**\\n\\n\\n\\nNote: you are allowed to **continue to refine and update your project/repo up until 24 hours before your review**, at which point the submitted materials will be considered final.\\xa0\\n\\n\\n\\n\\nProject Review Format\\n----------------------\\n\\n\\n* First, you will talk through your **5-8 minute, non-technical presentation**\\n+ The reviewing instructor will ask you a question or two as if they were your target audience\\n+ The reviewing instructor will then discuss any feedback or action items for the presentation\\n\\n* Next, you will go through your **technical notebook**\\n+ Please have the notebook open and pre-run before your review (if possible)\\n+ Depending on which project it is, the reviewing instructor will focus on a few areas of the notebook and generally will NOT have you talk through 100% of it\\n\\n* After reviewing the notebook and presentation, the reviewing instructor will submit feedback based on the rubric in Canvas (with the changes requested, if relevant)\\n\\n\\n\\xa0\\n\\n\\n\\nWith all that in mind - go forth and create the first big ticket item for your data science portfolio, we can\\'t wait to see it!\\n\\n\\n'"
      ]
     },
     "metadata": {},
     "execution_count": 5
    }
   ],
   "metadata": {}
  },
  {
   "cell_type": "code",
   "execution_count": 6,
   "source": [
    "with open('FLEX Phase 1 Project Instructions_ Phase 1.md','w') as f:\n",
    "    f.write(md)"
   ],
   "outputs": [],
   "metadata": {}
  },
  {
   "cell_type": "code",
   "execution_count": null,
   "source": [],
   "outputs": [],
   "metadata": {}
  }
 ],
 "metadata": {
  "orig_nbformat": 4,
  "language_info": {
   "name": "python",
   "version": "3.8.5",
   "mimetype": "text/x-python",
   "codemirror_mode": {
    "name": "ipython",
    "version": 3
   },
   "pygments_lexer": "ipython3",
   "nbconvert_exporter": "python",
   "file_extension": ".py"
  },
  "kernelspec": {
   "name": "python3",
   "display_name": "Python 3.8.5 64-bit ('learn-env': conda)"
  },
  "interpreter": {
   "hash": "c15d3b161d9e31d3c14101c293414707f40e59d6cae0bbd6b708ca3d1e942f6f"
  }
 },
 "nbformat": 4,
 "nbformat_minor": 2
}