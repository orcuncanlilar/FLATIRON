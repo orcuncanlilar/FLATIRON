{
 "cells": [
  {
   "cell_type": "markdown",
   "metadata": {},
   "source": [
    "\n",
    "# Building Dashboards with Tableau\n",
    "\n",
    "## Introduction\n",
    "Until now, we have been using Tableau workbooks to get familiar with the Tableau interface. Now we will take your Tableau skills one step further and dive into one of the most useful features of Tableau -- __dashboards__. \n",
    "\n",
    "First, we will describe the components of Tableau's dashboard workspace. Then, create a few vizzes and learn how to arrange and customize the dashboard to present our data. Next, we will then explore some of the interactive objects and see how they can be used to allow the viewer to ask questions of the data to gain insight.\n",
    "\n",
    "## Objectives\n",
    "You will be able to: \n",
    "* Identify and describe dashboard Objects and other elements of a Tableau dashboard workspace\n",
    "* Use horizontal and vertical containers to create a layout to arrange vizzes and objects on the dashboard\n",
    "* Add interactive elements to a Tableau dashboard"
   ]
  },
  {
   "cell_type": "markdown",
   "metadata": {},
   "source": [
    "## Creating a Dashboard\n",
    "There are a few ways to create a dashboard:\n",
    "1. __The Menu Bar__\n",
    "In the menu bar at the top of the interface you will see __Dashboard__. Click on this drop down and you will see the options for _Dashboard_. Your first option should be __New Dashboard__, click on this option and you will be taken to a new, blank dashboard.\n",
    "\n",
    "\n",
    "2. __The Sheets Tab__\n",
    "To the right of the __New Worksheet icon__, you will find the __New Dashboard__ icon, click on this icon and you will be taken to a new, blank dashboard."
   ]
  },
  {
   "cell_type": "markdown",
   "metadata": {},
   "source": [
    "<div>\n",
    "    <center>\n",
    "<table><tr><td>\n",
    "<img src=\"https://curriculum-content.s3.amazonaws.com/data-science/images/images/tableau/dashboards/dashboard2-new.png\" alt=\"This is the alt-text for the image.\" style=\"width: 700px;\"/>\n",
    "</td></tr></table>\n",
    "    </center> </div>\n",
    "<br>"
   ]
  },
  {
   "cell_type": "markdown",
   "metadata": {},
   "source": [
    "## Device Type Card\n",
    "One of the benefits of Tableau is that is allows you to easily create visualizations that improve the experience of your end user. In today's business environment, users are often trying to gain insights on the go and like to use mobile devices to interact with dashboards on Tableau.\n",
    "\n",
    "To facilitate use with mobile devices, Tableau has implemented a Device Type Card on the __Dashboard pane__. Right now, the Default is set to Phone, which will limit the maximum width and height of the dashboard.\n",
    "\n",
    "We also want to consider the experience of desktop users. We can do this by adding another device type to the card. On the Menu bar at the very top of the page, select Dashboard > Device Layouts > Add Desktop. \n",
    "\n",
    "This option lets you see what your dashboard will look like on different devices, so you can ensure it will be visible. You can even customize the view for each device format. \n",
    "\n",
    "If you want to remove a device, you can hover over it on the Dashboard pane and click on the `...` and select __Delete Layout__."
   ]
  },
  {
   "cell_type": "markdown",
   "metadata": {},
   "source": [
    "<div>\n",
    "    <center>\n",
    "<table><tr><td>\n",
    "<img src=\"https://curriculum-content.s3.amazonaws.com/data-science/images/images/tableau/dashboards/device-layout.png\" alt=\"This is the alt-text for the image.\" style=\"width: 700px;\"/>\n",
    "</td></tr></table>\n",
    "    </center> </div>\n",
    "<br>"
   ]
  },
  {
   "cell_type": "markdown",
   "metadata": {},
   "source": [
    "## Objects Card\n",
    "Objects are components that can be incorporated into your dashboard to add additional functionality, customization, and interactivity. Let's discuss a few of them using the labeled image below.\n",
    "\n",
    "__Keep in Mind__: __Ask Data__ (10), __Data Story__ (11), and __Extension__ (12), are not available with Tableau Public. If you would like to research their uses, you can look through the documentation on the <a src=\"https://www.tableau.com/\" target=\"blank\">Tableau Website</a>"
   ]
  },
  {
   "cell_type": "markdown",
   "metadata": {},
   "source": [
    "<div>\n",
    "    <center>\n",
    "<table><tr><td>\n",
    "<img src=\"https://curriculum-content.s3.amazonaws.com/data-science/images/images/tableau/dashboards/more-options1.png\" alt=\"This is the alt-text for the image.\" style=\"width: 700px;\"/>\n",
    "</td></tr></table>\n",
    "    </center> </div>\n",
    "<br>"
   ]
  },
  {
   "cell_type": "markdown",
   "metadata": {},
   "source": [
    "1. __Horizontal__ - Adds a container to hold objects horizontally\n",
    "2. __Vertical__ - Adds a container to hold objects vertically (more on containers below)\n",
    "3. __Text__ - Adds text boxes in your dashboard to help convey information about your dashboard to the viewer\n",
    "4. __Image__ - Adds images to your dashboard such as a logo\n",
    "5. __Web Page__ - Allows you to embed a web page in your dashboard\n",
    "6. __Data Story__ - Embeds a presentation to add context\n",
    "7. __Blank__ - Adds some blank space\n",
    "8. __Navigation__ - Allows you to create a link to any part of the workbook so the viewer can look closer at some component\n",
    "9. __Download__ - Allows you to embed a button for the viewer to download the viz as a PDF or an image file"
   ]
  },
  {
   "cell_type": "markdown",
   "metadata": {},
   "source": [
    "### Object Placement\n",
    "Objects can be placed in the dashboard in one of two manners, either __Tiled__ or __Floating__. \n",
    "\n",
    "__Floating__ allows the object to be placed anywhere on the dashboard and can be overlapping any part of the view. \n",
    "\n",
    "__Tiled__ attribute forces the object to share the space with the other objects in the container. \n",
    "\n",
    "If your container has more than one object in it, you will notice that you can determine how the item is placed based on the position you drop it in. Tableau will highlight the position the object will align to as you hover over the container. The same is true for containers as you are adding them to the dashboard."
   ]
  },
  {
   "cell_type": "markdown",
   "metadata": {},
   "source": [
    "## Interactive Elements\n",
    "Tableau dashboards can contain interactive elements that allow the end user to alter the view of the data in the dashboard to answer a novel question or perform an __ad hoc analysis__. For example, users can apply __Filters__ to view the data that pertains to the segment of the population most relevant to them.\n",
    "\n",
    "We can apply filters by using the __More Options__ menu. You can find this menu by clicking the down arrow on the top right of the viz on your sheet."
   ]
  },
  {
   "cell_type": "markdown",
   "metadata": {},
   "source": [
    "<div>\n",
    "    <center>\n",
    "<table><tr><td>\n",
    "<img src=\"https://curriculum-content.s3.amazonaws.com/data-science/images/images/tableau/dashboards/more-options-2.png\" alt=\"This is the alt-text for the image.\" style=\"width: 700px;\"/>\n",
    "</td></tr></table>\n",
    "    </center> </div>\n",
    "<br>"
   ]
  },
  {
   "cell_type": "markdown",
   "metadata": {},
   "source": [
    "In this example, we add a filter for `Sales (SUM)`. In the upper-right corner, there a slider appears that allows the use to toggle the sales amount they wish to filter by."
   ]
  },
  {
   "cell_type": "markdown",
   "metadata": {},
   "source": [
    "<div>\n",
    "    <center>\n",
    "<table><tr><td>\n",
    "<img src=\"https://curriculum-content.s3.amazonaws.com/data-science/images/images/tableau/dashboards/slider.png\" alt=\"This is the alt-text for the image.\" style=\"width: 700px;\"/>\n",
    "</td></tr></table>\n",
    "    </center> </div>\n",
    "<br>"
   ]
  },
  {
   "cell_type": "markdown",
   "metadata": {},
   "source": [
    "## Summary\n",
    "In this lesson, we introduced Tableau's Dashboard workspace and discussed some of the most important functionality, like Device Type and Objects. Then we discussed how you can add interactivity to your dashboards to allow users to ask questions of the data to gain insights. Finally, we discussed how each of these components works together to enhance the end user experience.\n",
    "\n",
    "In the upcoming lab, we will use this knowledge to build out a Tableau dashboard using the workbook we previously created. "
   ]
  }
 ],
 "metadata": {
  "kernelspec": {
   "display_name": "Python 3",
   "language": "python",
   "name": "python3"
  },
  "language_info": {
   "codemirror_mode": {
    "name": "ipython",
    "version": 3
   },
   "file_extension": ".py",
   "mimetype": "text/x-python",
   "name": "python",
   "nbconvert_exporter": "python",
   "pygments_lexer": "ipython3",
   "version": "3.8.5"
  }
 },
 "nbformat": 4,
 "nbformat_minor": 4
}
