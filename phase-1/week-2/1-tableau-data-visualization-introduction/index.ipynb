{
 "cells": [
  {
   "cell_type": "markdown",
   "metadata": {},
   "source": [
    "# Data Visualization with Tableau - Introduction"
   ]
  },
  {
   "cell_type": "markdown",
   "metadata": {},
   "source": [
    "## Introduction\n",
    "In this section, you'll learn about a popular Business Information platform called Tableau. Tableau is used for the creation of sharable visualizations and customized dashboards for the consumption of stakeholders. The visualizations and dashboards created with Tableau will consist largely of graphs, tables and charts which may or may not be interactive. "
   ]
  },
  {
   "cell_type": "markdown",
   "metadata": {},
   "source": [
    "## What is Tableau?\n",
    "Tableau is a powerful data analysis tool that allows data to be presented in a manner that allows it to be easily digestible with visualizations and charts to aid in the simplification of the data and it's analysis.  Tableau contains many customizable features and makes it easy to share in many ways. Tableau has many uses in the data science context, the most popular is for __Business Information__ commonly referred to as \"__B.I.__\" There are many ways Tableau can be used for B.I. but we will focus on just a few in this section."
   ]
  },
  {
   "cell_type": "markdown",
   "metadata": {},
   "source": [
    "#### Sharing Data Analytics\n",
    "One very simple feature of Tableau is the ability to share data analytics with many people who need to gain insight from the data you are working with. These analytics can be as simple as one visualization or a large collection of many charts and graphs."
   ]
  },
  {
   "cell_type": "markdown",
   "metadata": {},
   "source": [
    "#### Dashboarding\n",
    "Another feature of Tableau is the ability to create __dashboards__. A dashboard is a business tool that can be used to sort and display data to gain deeper insight into the data being analyzed. Tableau excels in the amount of tools available for creating dashboards with a large selection of graphs and charts, the flexibility to format and arrange all of your elements in a manner that will allow you to communicate your findings from the data. You can customize many aspects of the elements in your dashboard by changing fonts, colors, sizes, positions, etc. The elements will also maintain a connection to the data source for live updates."
   ]
  },
  {
   "cell_type": "markdown",
   "metadata": {},
   "source": [
    "#### Stories\n",
    "Tableu incudes a presentation style dashboard which allows the user to combine all of the features into a structured interactive dashboard called a __story__.  A story is simply a collection of dashboards, worksheets, and tables organized in a manner to present the data and analysis in a format that is easy for the audience to view and understand. A story is very similar to Power Point and can be shared, deployed to a website, or used in a presentation to stakeholders."
   ]
  },
  {
   "cell_type": "markdown",
   "metadata": {},
   "source": [
    "## Tableau Products and Versions\n",
    "Tableau's data visualization software comes in various platforms which are very similar at their core, but have different features that you may or may not need for your situation. The most popular of these platforms are Tableau Desktop and Tableau Public."
   ]
  },
  {
   "cell_type": "markdown",
   "metadata": {},
   "source": [
    "#### Tableau Desktop\n",
    "Tableau Desktop is the premium version of the software. This paid version is the full featured version which has the capability to connect to over 70 data sources, formats, and files. This version also allows the user to save work locally and share in a variety of formats. Tableau Desktop is a powerful version that is well suited for a business or for a data professional who needs to keep data private and still maintain the ability to share dashboards with many people or clients."
   ]
  },
  {
   "cell_type": "markdown",
   "metadata": {},
   "source": [
    "#### Tableau Public\n",
    "Tableau Public is a free version of the software. The free version has the same basic features as Tableau Desktop, but with limitations on the formats and connections you can use to import your data source. The free version only allows for abouy 9 data sources, which include file types and some data connections such as AWS and Google. For an individual who is simply learning to use Tableau or creating projects to showcase their abilities, Tableau Public should be sufficient."
   ]
  },
  {
   "cell_type": "markdown",
   "metadata": {},
   "source": [
    "## Summary\n",
    "Tableau is a powerful BI tool that has many features which makes sharing data insight and analysis easy and effective. Tableau has different versions of their software which can be useful for different situations, so it is best to research the offerings to chose the right one. We will continue learning more about Tableau using Tableau Public in the following lessons."
   ]
  }
 ],
 "metadata": {
  "kernelspec": {
   "display_name": "Python 3",
   "language": "python",
   "name": "python3"
  },
  "language_info": {
   "codemirror_mode": {
    "name": "ipython",
    "version": 3
   },
   "file_extension": ".py",
   "mimetype": "text/x-python",
   "name": "python",
   "nbconvert_exporter": "python",
   "pygments_lexer": "ipython3",
   "version": "3.8.5"
  }
 },
 "nbformat": 4,
 "nbformat_minor": 2
}
